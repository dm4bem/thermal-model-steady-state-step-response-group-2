{
 "cells": [
  {
   "cell_type": "markdown",
   "id": "61745899-03cd-406a-8dcf-8c9448f84d2e",
   "metadata": {},
   "source": [
    "We are seeking to assess the influence of considering the air capacity on the computation time.\n",
    "We assume that under steady-state conditions, neglecting the air capacity allows for an increase in the computation time step (as there are fewer \"details\" to represent, resulting in a higher discretization step and a lower number of discretization intervals), which would lead to reduced computation time.\n",
    "By implementing this modification in the code below, we find dt = 2 h, compared to dt = 5 min initially.\n",
    "Thus, we conclude that considering the air capacity affects the computation time, and one way to decrease it is by disregarding the air capacity in the modeling.\n",
  
   ]
  },
  {
   "cell_type": "code",
   "execution_count": null,
   "id": "aec30949-6e9f-4455-8483-bf0f1bc0fd08",
   "metadata": {},
   "outputs": [],
   "source": [
    "neglect_air_glass = False\n",
    "\n",
    "if neglect_air_glass:\n",
    "    C = np.array([0, C['Layer_out'], 0, C['Layer_in'], 0, 0,\n",
    "                  0, 0])\n",
    "else:\n",
    "    C = np.array([0, C['Layer_out'], 0, C['Layer_in'], 0, 0,\n",
    "                  C['Air'], C['Glass']])\n",
    "\n",
    "# pd.set_option(\"display.precision\", 3)\n",
    "pd.DataFrame(C, index=θ)"
   ]
  }
 ],
 "metadata": {
  "kernelspec": {
   "display_name": "Python 3 (ipykernel)",
   "language": "python",
   "name": "python3"
  },
  "language_info": {
   "codemirror_mode": {
    "name": "ipython",
    "version": 3
   },
   "file_extension": ".py",
   "mimetype": "text/x-python",
   "name": "python",
   "nbconvert_exporter": "python",
   "pygments_lexer": "ipython3",
   "version": "3.11.5"
  }
 },
 "nbformat": 4,
 "nbformat_minor": 5
}
